{
 "cells": [
  {
   "cell_type": "code",
   "execution_count": 1,
   "id": "64825d12-1488-4f62-9295-8fc68b3aed8e",
   "metadata": {},
   "outputs": [
    {
     "name": "stdout",
     "output_type": "stream",
     "text": [
      "importing Jupyter notebook from abuse_detecting_preprocessing.ipynb\n"
     ]
    },
    {
     "name": "stderr",
     "output_type": "stream",
     "text": [
      "/opt/homebrew/anaconda3/envs/yongari/lib/python3.11/site-packages/tqdm/auto.py:21: TqdmWarning: IProgress not found. Please update jupyter and ipywidgets. See https://ipywidgets.readthedocs.io/en/stable/user_install.html\n",
      "  from .autonotebook import tqdm as notebook_tqdm\n",
      "Warning : `load_model` does not return WordVectorModel or SupervisedModel any more, but a `FastText` object which is very similar.\n"
     ]
    },
    {
     "name": "stdout",
     "output_type": "stream",
     "text": [
      "['ㅇㅡㄴㄹㅡㄹㅈㅏㄹㅇㅣ-ㄱㅣㄴㄷㅏ-ㅎㅏ-', 'ㄴㅡㄴㄹㅗㄹㅇㅢ-ㅅㅣㄴㅇㅣ-ㄷㅏ-'] \n",
      "\n",
      "['t1ㅇㅡㄴlckㄹㅡㄹㅈㅏㄹㅇㅣ-ㄱㅣㄴㄷㅏ-ㅎㅏ-', 'fakerㄴㅡㄴㄹㅗㄹㅇㅢ-ㅅㅣㄴㅇㅣ-ㄷㅏ-'] \n",
      "\n",
      "importing Jupyter notebook from abuse_detecting_databuild.ipynb\n"
     ]
    }
   ],
   "source": [
    "\n",
    "import import_ipynb\n",
    "import abuse_detecting_preprocessing as pp\n",
    "import abuse_detecting_databuild as b\n",
    "\n",
    "import pandas as pd\n",
    "\n",
    "from glob import glob\n",
    "import os \n",
    "from transformers import DistilBertTokenizer\n",
    "\n",
    "tokenizer = DistilBertTokenizer.from_pretrained('distilbert-base-uncased')\n",
    "\n",
    "\n",
    "\n"
   ]
  },
  {
   "cell_type": "code",
   "execution_count": 2,
   "id": "20bdd8ab-3e23-486d-bf61-e29d6db1172d",
   "metadata": {},
   "outputs": [],
   "source": [
    "def erase_bot(data):\n",
    "\n",
    "    # 첫 번째 열의 값이 '@'로 시작하는 행을 필터링하여 봇으로 간주하고 제거\n",
    "    idxs = data[data.str.startswith('@') == True].index\n",
    "    data.loc[idxs] = None\n",
    "    bot_cnt = len(idxs)\n",
    "    print('data.shape : ', data.shape, 'None 처리한 봇 수 : ', bot_cnt, '\\n')\n",
    "    return data\n",
    "# erase_bot 함수 사용 예시\n",
    "# data = erase_bot(data)\n"
   ]
  },
  {
   "cell_type": "code",
   "execution_count": 3,
   "id": "4cae156b-446e-4aef-bc3a-a4b74019d886",
   "metadata": {},
   "outputs": [],
   "source": [
    "def erase_emoticons(data):\n",
    "# 이모티콘들이 대부분 ::smiling::으로 표시되기에 이 부분을 제거하고 이어 붙이는 작업을 수행.\n",
    "# ex) ::smiling:: 페이커 잘한다 > 페이커 잘한다 \n",
    "    c = 0\n",
    "    l = len(data)\n",
    "    while c != l:\n",
    "        c += 1\n",
    "        try:\n",
    "            cnt = 0\n",
    "            if ':' in data[cnt]:\n",
    "                l = data[cnt].find(':')\n",
    "                r = data[cnt].rfind(':')\n",
    "                data[cnt] = data[cnt][:l] + data[cnt][r+1:]\n",
    "                cnt += 1\n",
    "        except Exception as e:\n",
    "            print(\"An error occurred:\", e)\n",
    "            continue\n",
    "    return data"
   ]
  },
  {
   "cell_type": "code",
   "execution_count": 4,
   "id": "a6050f94-9f3f-49ea-9adf-d08352ece4dd",
   "metadata": {},
   "outputs": [],
   "source": [
    "def null_finder(data): # 공백만 있는 메세지 제거\n",
    "    print('공백 제거 전\\n', data.isnull().value_counts())\n",
    "    data = data.dropna()\n",
    "    print('공백 제거 후 \\n', data.isnull().value_counts())\n",
    "    \n",
    "    return data"
   ]
  },
  {
   "cell_type": "code",
   "execution_count": 5,
   "id": "dc111646-6793-4d37-968a-be7395024cd4",
   "metadata": {},
   "outputs": [],
   "source": [
    "def erase_emoticons(data):\n",
    "    # 각 문장에 대해 이모티콘을 제거하는 작업을 수행\n",
    "    cleaned_data = []\n",
    "    for sentence in data:\n",
    "        while '::' in sentence:\n",
    "            start = sentence.find('::')\n",
    "            end = sentence.find('::', start + 2)\n",
    "            if end == -1:\n",
    "                break\n",
    "            sentence = sentence[:start] + sentence[end + 2:]\n",
    "        cleaned_data.append(sentence)\n",
    "    return cleaned_data\n"
   ]
  },
  {
   "cell_type": "code",
   "execution_count": 6,
   "id": "ebb24047-1004-4287-99ee-485a89d2e8c9",
   "metadata": {
    "scrolled": true
   },
   "outputs": [],
   "source": [
    "r = glob('chatting_datas/labeled_datas/*.csv')\n",
    "data = pd.DataFrame()\n",
    "for i in r:\n",
    "    d = pd.read_csv(i)\n",
    "    data = pd.concat([data, d], axis = 0)\n",
    "data = data.reset_index(drop = True)\n",
    "labels = data['label']\n",
    "message = list(data['message'])\n"
   ]
  },
  {
   "cell_type": "code",
   "execution_count": 7,
   "id": "49a9eea3-c35d-42cd-9546-2a9829d5a557",
   "metadata": {},
   "outputs": [],
   "source": [
    "def tokenize_function(texts):\n",
    "    return tokenizer(texts, padding=True, truncation=True, return_tensors=\"tf\")\n",
    "\n",
    "tokenized_texts = tokenize_function(message)"
   ]
  },
  {
   "cell_type": "code",
   "execution_count": 8,
   "id": "b187e39a-2573-4e57-be3c-afb29ecd0d00",
   "metadata": {},
   "outputs": [],
   "source": [
    "import tensorflow as tf\n",
    "\n",
    "dataset = tf.data.Dataset.from_tensor_slices((dict(tokenized_texts), labels))\n",
    "dataset = dataset.shuffle(len(message)).batch(32)\n"
   ]
  },
  {
   "cell_type": "code",
   "execution_count": 9,
   "id": "7d1ca272-feae-4bc3-878b-c09e7fe94b1b",
   "metadata": {},
   "outputs": [
    {
     "name": "stderr",
     "output_type": "stream",
     "text": [
      "Some weights of the PyTorch model were not used when initializing the TF 2.0 model TFDistilBertForSequenceClassification: ['vocab_layer_norm.bias', 'vocab_projector.bias', 'vocab_transform.weight', 'vocab_transform.bias', 'vocab_layer_norm.weight']\n",
      "- This IS expected if you are initializing TFDistilBertForSequenceClassification from a PyTorch model trained on another task or with another architecture (e.g. initializing a TFBertForSequenceClassification model from a BertForPreTraining model).\n",
      "- This IS NOT expected if you are initializing TFDistilBertForSequenceClassification from a PyTorch model that you expect to be exactly identical (e.g. initializing a TFBertForSequenceClassification model from a BertForSequenceClassification model).\n",
      "Some weights or buffers of the TF 2.0 model TFDistilBertForSequenceClassification were not initialized from the PyTorch model and are newly initialized: ['pre_classifier.weight', 'pre_classifier.bias', 'classifier.weight', 'classifier.bias']\n",
      "You should probably TRAIN this model on a down-stream task to be able to use it for predictions and inference.\n"
     ]
    }
   ],
   "source": [
    "from transformers import TFDistilBertForSequenceClassification\n",
    "\n",
    "model = TFDistilBertForSequenceClassification.from_pretrained('distilbert-base-uncased', num_labels=2)\n"
   ]
  },
  {
   "cell_type": "code",
   "execution_count": null,
   "id": "b265c072-a1ee-4efc-a13e-e25772df78f6",
   "metadata": {},
   "outputs": [
    {
     "name": "stderr",
     "output_type": "stream",
     "text": [
      "WARNING:absl:At this time, the v2.11+ optimizer `tf.keras.optimizers.Adam` runs slowly on M1/M2 Macs, please use the legacy TF-Keras optimizer instead, located at `tf.keras.optimizers.legacy.Adam`.\n"
     ]
    },
    {
     "name": "stdout",
     "output_type": "stream",
     "text": [
      "Epoch 1/3\n",
      "WARNING:tensorflow:AutoGraph could not transform <function infer_framework at 0x1479a1080> and will run it as-is.\n",
      "Cause: for/else statement not yet supported\n",
      "To silence this warning, decorate the function with @tf.autograph.experimental.do_not_convert\n"
     ]
    },
    {
     "name": "stderr",
     "output_type": "stream",
     "text": [
      "WARNING:tensorflow:AutoGraph could not transform <function infer_framework at 0x1479a1080> and will run it as-is.\n",
      "Cause: for/else statement not yet supported\n",
      "To silence this warning, decorate the function with @tf.autograph.experimental.do_not_convert\n"
     ]
    },
    {
     "name": "stdout",
     "output_type": "stream",
     "text": [
      "WARNING: AutoGraph could not transform <function infer_framework at 0x1479a1080> and will run it as-is.\n",
      "Cause: for/else statement not yet supported\n",
      "To silence this warning, decorate the function with @tf.autograph.experimental.do_not_convert\n",
      " 24/221 [==>...........................] - ETA: 33:55 - loss: 0.6305 - accuracy: 0.6419"
     ]
    }
   ],
   "source": [
    "model.compile(optimizer=tf.keras.optimizers.Adam(learning_rate=2e-5),\n",
    "              loss=tf.keras.losses.SparseCategoricalCrossentropy(from_logits=True),\n",
    "              metrics=['accuracy'])\n",
    "\n",
    "history = model.fit(dataset, epochs=3)\n"
   ]
  },
  {
   "cell_type": "code",
   "execution_count": null,
   "id": "12b1b374-1329-4927-ae52-2477b22a314d",
   "metadata": {},
   "outputs": [],
   "source": [
    "# 모델 평가\n",
    "loss, accuracy = model.evaluate(dataset)\n",
    "print(f'Loss: {loss}, Accuracy: {accuracy}')\n",
    "\n",
    "# 새로운 텍스트 예측\n",
    "new_texts = [\"Example text to classify\"]\n",
    "new_tokenized_texts = tokenize_function(new_texts)\n",
    "predictions = model.predict(dict(new_tokenized_texts))\n",
    "predicted_labels = tf.argmax(predictions.logits, axis=-1).numpy()\n",
    "print(predicted_labels)\n"
   ]
  }
 ],
 "metadata": {
  "kernelspec": {
   "display_name": "Python 3 (ipykernel)",
   "language": "python",
   "name": "python3"
  },
  "language_info": {
   "codemirror_mode": {
    "name": "ipython",
    "version": 3
   },
   "file_extension": ".py",
   "mimetype": "text/x-python",
   "name": "python",
   "nbconvert_exporter": "python",
   "pygments_lexer": "ipython3",
   "version": "3.11.9"
  }
 },
 "nbformat": 4,
 "nbformat_minor": 5
}
