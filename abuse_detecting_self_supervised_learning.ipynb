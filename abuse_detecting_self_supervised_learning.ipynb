{
 "cells": [
  {
   "cell_type": "code",
   "execution_count": 46,
   "id": "150c2757-3491-4325-9c19-1d77c929e613",
   "metadata": {},
   "outputs": [
    {
     "name": "stderr",
     "output_type": "stream",
     "text": [
      "WARNING:absl:Compiled the loaded model, but the compiled metrics have yet to be built. `model.compile_metrics` will be empty until you train or evaluate the model.\n",
      "WARNING:absl:Compiled the loaded model, but the compiled metrics have yet to be built. `model.compile_metrics` will be empty until you train or evaluate the model.\n",
      "WARNING:absl:Compiled the loaded model, but the compiled metrics have yet to be built. `model.compile_metrics` will be empty until you train or evaluate the model.\n",
      "Warning : `load_model` does not return WordVectorModel or SupervisedModel any more, but a `FastText` object which is very similar.\n"
     ]
    }
   ],
   "source": [
    "import os\n",
    "from glob import glob\n",
    "import warnings\n",
    "import random\n",
    "warnings.filterwarnings('ignore')\n",
    "import datetime\n",
    "\n",
    "import import_ipynb\n",
    "import abuse_detecting_preprocessing as pp\n",
    "import abuse_detecting_databuild as b\n",
    "\n",
    "import pandas as pd\n",
    "import numpy as np\n",
    "\n",
    "import fasttext\n",
    "\n",
    "import tensorflow as tf\n",
    "\n",
    "_1DCNN_model = tf.keras.models.load_model('1DCNN_model.h5')\n",
    "BiLSTM_model = tf.keras.models.load_model('BiLSTM_model.h5')\n",
    "GRU_model = tf.keras.models.load_model('GRU_model.h5')\n",
    "fasttext_model = fasttext.load_model('/Users/kim-yongjun/Documents/abuse_detecting/fasttext_model.bin')\n"
   ]
  },
  {
   "cell_type": "code",
   "execution_count": 47,
   "id": "e631365e-61f0-4738-9c74-89569c896a19",
   "metadata": {},
   "outputs": [],
   "source": [
    "def erase_bot(data):\n",
    "\n",
    "    # 첫 번째 열의 값이 '@'로 시작하는 행을 필터링하여 봇으로 간주하고 제거\n",
    "    idxs = data[data.str.startswith('@') == True].index\n",
    "    data.loc[idxs] = None\n",
    "    bot_cnt = len(idxs)\n",
    "    print('data.shape : ', data.shape, 'None 처리한 봇 수 : ', bot_cnt, '\\n')\n",
    "    return data\n",
    "# erase_bot 함수 사용 예시\n",
    "# data = erase_bot(data)\n"
   ]
  },
  {
   "cell_type": "code",
   "execution_count": 48,
   "id": "dd7cb96d-10e4-453a-bd37-df9f56c86646",
   "metadata": {},
   "outputs": [],
   "source": [
    "def null_finder(data): # 공백만 있는 메세지 제거\n",
    "    print('공백 제거 전\\n', data.isnull().value_counts())\n",
    "    data = data.dropna()\n",
    "    print('공백 제거 후 \\n', data.isnull().value_counts())\n",
    "    \n",
    "    return data"
   ]
  },
  {
   "cell_type": "code",
   "execution_count": 49,
   "id": "48cbd5ca-1e4e-4a33-9e3f-c3196ac0b170",
   "metadata": {},
   "outputs": [],
   "source": [
    "def erase_emoticons(data):\n",
    "    # 각 문장에 대해 이모티콘을 제거하는 작업을 수행\n",
    "    cleaned_data = []\n",
    "    for sentence in data:\n",
    "        while '::' in sentence:\n",
    "            start = sentence.find('::')\n",
    "            end = sentence.find('::', start + 2)\n",
    "            if end == -1:\n",
    "                break\n",
    "            sentence = sentence[:start] + sentence[end + 2:]\n",
    "        cleaned_data.append(sentence)\n",
    "    return cleaned_data\n"
   ]
  },
  {
   "cell_type": "code",
   "execution_count": 50,
   "id": "5ef0c729-12eb-4c50-a87c-68930698f9f2",
   "metadata": {},
   "outputs": [],
   "source": [
    "def soft_ensemble(models, data, threshold): \n",
    "# 욕설 0 , 정상 1 / 세 모델 결과의 평균이 0.3 미만일 경우(확실한 경우)를 0 으로 라벨링\n",
    "# Pseudo labeled data를 만들기 위함.\n",
    "    pred = np.column_stack([m.predict(data) for m in models])\n",
    "    pred = np.mean(pred, axis = 1)\n",
    "    pred = np.array([0 if p <= threshold else 1 for p in pred])\n",
    "    return pred\n",
    "    "
   ]
  },
  {
   "cell_type": "code",
   "execution_count": 51,
   "id": "0e4bdba7-bddb-4207-9fda-f2da39be936a",
   "metadata": {},
   "outputs": [],
   "source": [
    "def makesample(size1, size2):\n",
    "# 전체 데이터에서 size만큼의 크기의 데이터 추출\n",
    "    data = pd.DataFrame()\n",
    "    r = glob(os.getcwd() + '/chatting_datas/*.csv')\n",
    "    for i in r:\n",
    "        data = pd.concat([data, pd.read_csv(i)], ignore_index = True)\n",
    "        \n",
    "    df = data['message']\n",
    "    message = erase_bot(df)\n",
    "    message = null_finder(message)\n",
    "    message = pd.Series(erase_emoticons(message))\n",
    "    message = message.sample(size1)\n",
    "    \n",
    "    vectors = b.making_x_train(message, embedding_length, fasttext_model, n_gram)\n",
    "    pred = soft_ensemble(models, vectors, threshold) \n",
    "    message = pd.DataFrame(message)\n",
    "    message['label'] = pred\n",
    "    message = message.rename(columns = {0 : 'message' })\n",
    "    \n",
    "    return message.sample(size2)"
   ]
  },
  {
   "cell_type": "code",
   "execution_count": 52,
   "id": "e64183f0-5580-48f8-ac06-a8cb3d792fc2",
   "metadata": {},
   "outputs": [],
   "source": [
    "def activation_learning_data(models, size):\n",
    "# 세 모델의 결과값 평균치가 0.3 이상 0.7 미만인 데이터들만 추출 (욕설인지 아닌지 애매한 데이터들)\n",
    "    m, vec = makesample(size)\n",
    "    pred = np.column_stack([m.predict(vec) for m in models])\n",
    "    pred = np.mean(pred, axis = 1)\n",
    "    pred = np.array([True if 0.3 <= p <= 0.7 else False for p in pred])\n",
    "    m = pd.DataFrame(m)\n",
    "    m['label'] = pred\n",
    "    target = m[m['label'] == True]\n",
    "    return target[['message']]"
   ]
  },
  {
   "cell_type": "code",
   "execution_count": 53,
   "id": "18d4b700-038e-45a1-9b72-c4f05cb05972",
   "metadata": {},
   "outputs": [
    {
     "name": "stdout",
     "output_type": "stream",
     "text": [
      "data.shape :  (1008951,) None 처리한 봇 수 :  9367 \n",
      "\n",
      "공백 제거 전\n",
      " message\n",
      "False    999566\n",
      "True       9385\n",
      "Name: count, dtype: int64\n",
      "공백 제거 후 \n",
      " message\n",
      "False    999566\n",
      "Name: count, dtype: int64\n",
      "\u001b[1m1563/1563\u001b[0m \u001b[32m━━━━━━━━━━━━━━━━━━━━\u001b[0m\u001b[37m\u001b[0m \u001b[1m2s\u001b[0m 1ms/step\n",
      "\u001b[1m1563/1563\u001b[0m \u001b[32m━━━━━━━━━━━━━━━━━━━━\u001b[0m\u001b[37m\u001b[0m \u001b[1m19s\u001b[0m 12ms/step\n",
      "\u001b[1m1563/1563\u001b[0m \u001b[32m━━━━━━━━━━━━━━━━━━━━\u001b[0m\u001b[37m\u001b[0m \u001b[1m13s\u001b[0m 8ms/step\n"
     ]
    },
    {
     "data": {
      "text/html": [
       "<div>\n",
       "<style scoped>\n",
       "    .dataframe tbody tr th:only-of-type {\n",
       "        vertical-align: middle;\n",
       "    }\n",
       "\n",
       "    .dataframe tbody tr th {\n",
       "        vertical-align: top;\n",
       "    }\n",
       "\n",
       "    .dataframe thead th {\n",
       "        text-align: right;\n",
       "    }\n",
       "</style>\n",
       "<table border=\"1\" class=\"dataframe\">\n",
       "  <thead>\n",
       "    <tr style=\"text-align: right;\">\n",
       "      <th></th>\n",
       "      <th>message</th>\n",
       "      <th>label</th>\n",
       "    </tr>\n",
       "  </thead>\n",
       "  <tbody>\n",
       "    <tr>\n",
       "      <th>441822</th>\n",
       "      <td>지우는 개천의 용이다</td>\n",
       "      <td>1</td>\n",
       "    </tr>\n",
       "    <tr>\n",
       "      <th>101414</th>\n",
       "      <td>와 광동 서부입성?ㄷㄷㄷㄷ</td>\n",
       "      <td>1</td>\n",
       "    </tr>\n",
       "    <tr>\n",
       "      <th>489255</th>\n",
       "      <td>퍼펙트가 굳건하노</td>\n",
       "      <td>1</td>\n",
       "    </tr>\n",
       "    <tr>\n",
       "      <th>785327</th>\n",
       "      <td>함화무저건승</td>\n",
       "      <td>1</td>\n",
       "    </tr>\n",
       "    <tr>\n",
       "      <th>737999</th>\n",
       "      <td>ㄹㅇㅋㅋ</td>\n",
       "      <td>1</td>\n",
       "    </tr>\n",
       "    <tr>\n",
       "      <th>...</th>\n",
       "      <td>...</td>\n",
       "      <td>...</td>\n",
       "    </tr>\n",
       "    <tr>\n",
       "      <th>10582</th>\n",
       "      <td>연계보소 ㅋㅋ</td>\n",
       "      <td>1</td>\n",
       "    </tr>\n",
       "    <tr>\n",
       "      <th>661723</th>\n",
       "      <td>1557</td>\n",
       "      <td>0</td>\n",
       "    </tr>\n",
       "    <tr>\n",
       "      <th>489282</th>\n",
       "      <td>면상치워라</td>\n",
       "      <td>1</td>\n",
       "    </tr>\n",
       "    <tr>\n",
       "      <th>375929</th>\n",
       "      <td>goodnight</td>\n",
       "      <td>1</td>\n",
       "    </tr>\n",
       "    <tr>\n",
       "      <th>852968</th>\n",
       "      <td>도사 ㄷㄷ</td>\n",
       "      <td>1</td>\n",
       "    </tr>\n",
       "  </tbody>\n",
       "</table>\n",
       "<p>10000 rows × 2 columns</p>\n",
       "</div>"
      ],
      "text/plain": [
       "               message  label\n",
       "441822     지우는 개천의 용이다      1\n",
       "101414  와 광동 서부입성?ㄷㄷㄷㄷ      1\n",
       "489255       퍼펙트가 굳건하노      1\n",
       "785327          함화무저건승      1\n",
       "737999            ㄹㅇㅋㅋ      1\n",
       "...                ...    ...\n",
       "10582          연계보소 ㅋㅋ      1\n",
       "661723            1557      0\n",
       "489282           면상치워라      1\n",
       "375929      goodnight       1\n",
       "852968           도사 ㄷㄷ      1\n",
       "\n",
       "[10000 rows x 2 columns]"
      ]
     },
     "execution_count": 53,
     "metadata": {},
     "output_type": "execute_result"
    }
   ],
   "source": [
    "models = [_1DCNN_model, BiLSTM_model, GRU_model]\n",
    "embedding_length = 40\n",
    "n_gram = 5\n",
    "size1 = 50000\n",
    "size2 = 10000\n",
    "threshold = 0.2\n",
    "\n",
    "today = datetime.datetime.today().strftime(\"%Y_%m_%d_%H_%M\") \n",
    "messages = makesample(size1, size2)\n",
    "messages = pd.DataFrame(messages)\n",
    "messages"
   ]
  },
  {
   "cell_type": "code",
   "execution_count": 54,
   "id": "fb133827-b499-4838-b8ea-b7f28a53644f",
   "metadata": {},
   "outputs": [
    {
     "name": "stdout",
     "output_type": "stream",
     "text": [
      "10000개의 수도 레이블 생성 완료.\n"
     ]
    }
   ],
   "source": [
    "messages.to_csv(os.getcwd() + f'/chatting_datas/labeled_datas/{today}_pseudo.csv')\n",
    "print(f'{size2}개의 수도 레이블 생성 완료.')"
   ]
  },
  {
   "cell_type": "code",
   "execution_count": 10,
   "id": "a58f5f98-577d-4c17-8dbb-29c187f06d3a",
   "metadata": {},
   "outputs": [
    {
     "name": "stdout",
     "output_type": "stream",
     "text": [
      "data.shape :  (1008951,) None 처리한 봇 수 :  9367 \n",
      "\n",
      "공백 제거 전\n",
      " message\n",
      "False    999566\n",
      "True       9385\n",
      "Name: count, dtype: int64\n",
      "공백 제거 후 \n",
      " message\n",
      "False    999566\n",
      "Name: count, dtype: int64\n",
      "An error occurred: 63\n",
      "\u001b[1m313/313\u001b[0m \u001b[32m━━━━━━━━━━━━━━━━━━━━\u001b[0m\u001b[37m\u001b[0m \u001b[1m0s\u001b[0m 1ms/step\n",
      "\u001b[1m313/313\u001b[0m \u001b[32m━━━━━━━━━━━━━━━━━━━━\u001b[0m\u001b[37m\u001b[0m \u001b[1m4s\u001b[0m 12ms/step\n",
      "\u001b[1m313/313\u001b[0m \u001b[32m━━━━━━━━━━━━━━━━━━━━\u001b[0m\u001b[37m\u001b[0m \u001b[1m3s\u001b[0m 9ms/step\n"
     ]
    }
   ],
   "source": [
    "act_data = activation_learning_data(models, 10000)\n",
    "act_data.to_csv(os.getcwd() + f'/chatting_datas/{today}_act_learning.csv')"
   ]
  },
  {
   "cell_type": "code",
   "execution_count": null,
   "id": "4ad85b51-a039-481a-a76f-63b0ce6f34e2",
   "metadata": {},
   "outputs": [],
   "source": []
  }
 ],
 "metadata": {
  "kernelspec": {
   "display_name": "Python 3 (ipykernel)",
   "language": "python",
   "name": "python3"
  },
  "language_info": {
   "codemirror_mode": {
    "name": "ipython",
    "version": 3
   },
   "file_extension": ".py",
   "mimetype": "text/x-python",
   "name": "python",
   "nbconvert_exporter": "python",
   "pygments_lexer": "ipython3",
   "version": "3.11.9"
  }
 },
 "nbformat": 4,
 "nbformat_minor": 5
}
