{
 "cells": [
  {
   "cell_type": "code",
   "execution_count": 5,
   "id": "05e8fcb0-86e4-4b9b-abed-c3a0ab4610f3",
   "metadata": {},
   "outputs": [
    {
     "name": "stdout",
     "output_type": "stream",
     "text": [
      "importing Jupyter notebook from abuse_detecting_preprocessing.ipynb\n",
      "['ㅇㅡㄴㄹㅡㄹㅈㅏㄹㅇㅣ-ㄱㅣㄴㄷㅏ-ㅎㅏ-', 'ㄴㅡㄴㄹㅗㄹㅇㅢ-ㅅㅣㄴㅇㅣ-ㄷㅏ-'] \n",
      "\n",
      "['t1ㅇㅡㄴlckㄹㅡㄹㅈㅏㄹㅇㅣ-ㄱㅣㄴㄷㅏ-ㅎㅏ-', 'fakerㄴㅡㄴㄹㅗㄹㅇㅢ-ㅅㅣㄴㅇㅣ-ㄷㅏ-'] \n",
      "\n"
     ]
    },
    {
     "name": "stderr",
     "output_type": "stream",
     "text": [
      "/opt/homebrew/anaconda3/envs/yongari/lib/python3.11/site-packages/tqdm/auto.py:21: TqdmWarning: IProgress not found. Please update jupyter and ipywidgets. See https://ipywidgets.readthedocs.io/en/stable/user_install.html\n",
      "  from .autonotebook import tqdm as notebook_tqdm\n"
     ]
    }
   ],
   "source": [
    "import import_ipynb\n",
    "import abuse_detecting_preprocessing as pp#text_preprocessing(x) ,text_preprocessing_can_eng_num(x)\n",
    "import pandas as pd\n",
    "import numpy as np\n",
    "from tqdm import tqdm\n",
    "import fasttext\n",
    "from glob import glob\n",
    "import os\n",
    "import random"
   ]
  },
  {
   "cell_type": "code",
   "execution_count": 6,
   "id": "25eced59-82a5-4375-87c3-fdd7392262a0",
   "metadata": {},
   "outputs": [],
   "source": [
    "def erase_bot(data):\n",
    "\n",
    "    # 첫 번째 열의 값이 '@'로 시작하는 행을 필터링하여 봇으로 간주하고 제거\n",
    "    idxs = data[data.str.startswith('@') == True].index\n",
    "    data.loc[idxs] = None\n",
    "    bot_cnt = len(idxs)\n",
    "    print('data.shape : ', data.shape, 'None 처리한 봇 수 : ', bot_cnt, '\\n')\n",
    "    return data\n",
    "# erase_bot 함수 사용 예시\n",
    "# data = erase_bot(data)\n"
   ]
  },
  {
   "cell_type": "code",
   "execution_count": 7,
   "id": "530991af-ad5d-42f0-91dc-e78ea9bf0374",
   "metadata": {},
   "outputs": [],
   "source": [
    "def null_finder(data): # 공백만 있는 메세지 제거\n",
    "    print('공백 제거 전\\n', data.isnull().value_counts())\n",
    "    data = data.dropna()\n",
    "    print('공백 제거 후 \\n', data.isnull().value_counts())\n",
    "    \n",
    "    return data"
   ]
  },
  {
   "cell_type": "code",
   "execution_count": 8,
   "id": "aca3c175-f6c3-471d-9c2e-d8f4b771cffc",
   "metadata": {},
   "outputs": [],
   "source": [
    "def erase_emoticons(data):\n",
    "    # 각 문장에 대해 이모티콘을 제거하는 작업을 수행\n",
    "    for i in range(len(data)):\n",
    "        while '::' in data[i]:\n",
    "            start = data[i].find('::')\n",
    "            end = data[i].find('::', start + 2)\n",
    "            if end == -1:\n",
    "                break\n",
    "            data[i] = data[i][:start] + data[i][end + 2:]\n",
    "    return data\n"
   ]
  },
  {
   "cell_type": "code",
   "execution_count": 9,
   "id": "2b6e7ffd-8cfe-4f01-b4b5-6a7a9fc4b007",
   "metadata": {},
   "outputs": [],
   "source": [
    "def equalmatchfinder(routes):\n",
    "    routes = sorted(routes)\n",
    "    team_l = {'T1' : 0, 'GEN' : 0, 'HLE' : 0, 'KT' : 0, 'KDF' : 0,\n",
    "              'DK' : 0, 'FOX' : 0, 'NS' : 0, 'DRX' : 0, 'BRO' : 0}\n",
    "    idx = 0\n",
    "    for route in routes:\n",
    "        for key in team_l.keys():\n",
    "            if route.find(key) != -1:\n",
    "                team_l[key] += 1\n",
    "        idx += 1\n",
    "        if len(set(list(team_l.values()))) == 1: # set으로 바꾸면 중복이 사라지기에 길이가 1이라는 뜻은 경기수가 전부 같음을 의미.\n",
    "            print(idx,'번째에서 모두 같은 값입니다.\\n', team_l)\n",
    "    \n",
    "    # 1~10 : fasttext \n",
    "    # 11~15 : activation learning\n",
    "    # 16~20 : analysis\n",
    "    # 21~25 : labeling"
   ]
  },
  {
   "cell_type": "code",
   "execution_count": 10,
   "id": "8e15ad45-4a9b-4270-bd88-f04fe143272c",
   "metadata": {},
   "outputs": [],
   "source": [
    "def n_grams(sentences, n):\n",
    "    n_grams_list = []\n",
    "\n",
    "    for sentence in sentences:\n",
    "        n_grams_sentence = []\n",
    "        sentence_length = len(sentence)\n",
    "\n",
    "        if sentence_length < n:\n",
    "            continue\n",
    "\n",
    "        for i in range(sentence_length - n + 1):\n",
    "            n_gram = sentence[i:i+n]\n",
    "            n_grams_sentence.append(n_gram)\n",
    "\n",
    "        n_grams_list.append(n_grams_sentence)\n",
    "    print(f' n = {n}인 ngram 생성.')\n",
    "    return n_grams_list"
   ]
  },
  {
   "cell_type": "code",
   "execution_count": 11,
   "id": "7436a776-cea3-4e0b-988b-df094152451d",
   "metadata": {},
   "outputs": [],
   "source": [
    "def fasttext_model(x,n):\n",
    "\n",
    "    with open('tokenized_data.txt', 'w') as out:\n",
    "        for line in tqdm(x, unit=' line'):\n",
    "            out.write(' '.join(line) + '\\n')\n",
    "            \n",
    "    model = fasttext.train_unsupervised('tokenized_data.txt',\n",
    "                                    model = 'skipgram', lr = 0.05, dim = 100,\n",
    "                                    ws = 5, epoch = 30, minn = 1, word_ngrams = n)\n",
    "    return model"
   ]
  },
  {
   "cell_type": "code",
   "execution_count": 12,
   "id": "bb0cf557-3048-4912-80cf-67e18956f245",
   "metadata": {},
   "outputs": [],
   "source": [
    "def making_fasttext_model(messages, N = 5):\n",
    "    messages = erase_bot(messages)\n",
    "\n",
    "    messages = null_finder(messages)\n",
    "\n",
    "    messages = messages.reset_index(drop = True)\n",
    "    messages = erase_emoticons(messages)\n",
    "    \n",
    "    words = pp.text_preprocessing_can_eng_num(messages)\n",
    "        # @로 시작하는 채팅들을 Null로 설정 (봇 제거)\n",
    "        # Null들을 제거\n",
    "        # :로 시작하는 이모티콘들 제거\n",
    "        # 메세지에서 한국어와 영어만 남긴다.\n",
    "        # 텍스트에서 겹친 글자를 줄인다. (ㅋㅋㅋㅋㅋ > ㅋ)\n",
    "        # 텍스트를 초성으로 바꾼다.\n",
    "        # 바꾼 텍스트에서 겹모음을 바꾼다.\n",
    "    bow = n_grams(words , N) # 리스트로 받아 각 문장을 5개씩 쪼갠다.\n",
    "    model = fasttext_model(bow, N)\n",
    "    return model\n"
   ]
  },
  {
   "cell_type": "code",
   "execution_count": 13,
   "id": "02caddbf-15f2-4e09-a350-7325ad6a5c89",
   "metadata": {},
   "outputs": [],
   "source": [
    "route = 'chatting_datas/*.csv'\n",
    "routes = glob(route)\n",
    "routes = sorted(routes)\n"
   ]
  },
  {
   "cell_type": "code",
   "execution_count": 14,
   "id": "c1bd13af-7ba9-47db-a9aa-89032af38c7d",
   "metadata": {},
   "outputs": [
    {
     "name": "stdout",
     "output_type": "stream",
     "text": [
      "5 번째에서 모두 같은 값입니다.\n",
      " {'T1': 2, 'GEN': 2, 'HLE': 2, 'KT': 2, 'KDF': 2, 'DK': 2, 'FOX': 2, 'NS': 2, 'DRX': 2, 'BRO': 2}\n",
      "10 번째에서 모두 같은 값입니다.\n",
      " {'T1': 4, 'GEN': 4, 'HLE': 4, 'KT': 4, 'KDF': 4, 'DK': 4, 'FOX': 4, 'NS': 4, 'DRX': 4, 'BRO': 4}\n",
      "15 번째에서 모두 같은 값입니다.\n",
      " {'T1': 6, 'GEN': 6, 'HLE': 6, 'KT': 6, 'KDF': 6, 'DK': 6, 'FOX': 6, 'NS': 6, 'DRX': 6, 'BRO': 6}\n",
      "20 번째에서 모두 같은 값입니다.\n",
      " {'T1': 8, 'GEN': 8, 'HLE': 8, 'KT': 8, 'KDF': 8, 'DK': 8, 'FOX': 8, 'NS': 8, 'DRX': 8, 'BRO': 8}\n",
      "26 번째에서 모두 같은 값입니다.\n",
      " {'T1': 10, 'GEN': 10, 'HLE': 10, 'KT': 10, 'KDF': 10, 'DK': 10, 'FOX': 10, 'NS': 10, 'DRX': 10, 'BRO': 10}\n"
     ]
    },
    {
     "data": {
      "text/plain": [
       "57"
      ]
     },
     "execution_count": 14,
     "metadata": {},
     "output_type": "execute_result"
    }
   ],
   "source": [
    "equalmatchfinder(routes)\n",
    "len(routes)\n",
    "# 25경기까지는 모두 동일한 횟수로 경기하였음."
   ]
  },
  {
   "cell_type": "code",
   "execution_count": 15,
   "id": "7cf16d5a-4fb3-41d1-9c59-125abebd0839",
   "metadata": {},
   "outputs": [
    {
     "name": "stdout",
     "output_type": "stream",
     "text": [
      "(482915, 1)\n"
     ]
    },
    {
     "data": {
      "text/html": [
       "<div>\n",
       "<style scoped>\n",
       "    .dataframe tbody tr th:only-of-type {\n",
       "        vertical-align: middle;\n",
       "    }\n",
       "\n",
       "    .dataframe tbody tr th {\n",
       "        vertical-align: top;\n",
       "    }\n",
       "\n",
       "    .dataframe thead th {\n",
       "        text-align: right;\n",
       "    }\n",
       "</style>\n",
       "<table border=\"1\" class=\"dataframe\">\n",
       "  <thead>\n",
       "    <tr style=\"text-align: right;\">\n",
       "      <th></th>\n",
       "      <th>message</th>\n",
       "    </tr>\n",
       "  </thead>\n",
       "  <tbody>\n",
       "    <tr>\n",
       "      <th>174460</th>\n",
       "      <td>타워있는데 넥서스 칠수있나?</td>\n",
       "    </tr>\n",
       "    <tr>\n",
       "      <th>269144</th>\n",
       "      <td>대상혁</td>\n",
       "    </tr>\n",
       "    <tr>\n",
       "      <th>208482</th>\n",
       "      <td>스찌.?</td>\n",
       "    </tr>\n",
       "    <tr>\n",
       "      <th>179624</th>\n",
       "      <td>가슴이 옹졸해 지는 경기 보러 왔따.</td>\n",
       "    </tr>\n",
       "    <tr>\n",
       "      <th>111739</th>\n",
       "      <td>퍼펙트 못한다고 하기엔 킹겐 솔킬냈쥬?</td>\n",
       "    </tr>\n",
       "  </tbody>\n",
       "</table>\n",
       "</div>"
      ],
      "text/plain": [
       "                      message\n",
       "174460        타워있는데 넥서스 칠수있나?\n",
       "269144                    대상혁\n",
       "208482                   스찌.?\n",
       "179624   가슴이 옹졸해 지는 경기 보러 왔따.\n",
       "111739  퍼펙트 못한다고 하기엔 킹겐 솔킬냈쥬?"
      ]
     },
     "execution_count": 15,
     "metadata": {},
     "output_type": "execute_result"
    }
   ],
   "source": [
    "import gc\n",
    "Games = 26\n",
    "\n",
    "df = pd.DataFrame()\n",
    "for r in routes[:Games]:\n",
    "    data = pd.read_csv(r)\n",
    "    df = pd.concat([df, data])\n",
    "    del data\n",
    "    gc.collect()\n",
    "df = df[['message']].reset_index(drop = True)\n",
    "print(df.shape)\n",
    "df.sample(5)\n"
   ]
  },
  {
   "cell_type": "code",
   "execution_count": null,
   "id": "bd838508-672d-4f7b-b8c2-bef716918e59",
   "metadata": {},
   "outputs": [
    {
     "name": "stdout",
     "output_type": "stream",
     "text": [
      "data.shape :  (482915,) None 처리한 봇 수 :  4054 \n",
      "\n",
      "공백 제거 전\n",
      " message\n",
      "False    478850\n",
      "True       4065\n",
      "Name: count, dtype: int64\n",
      "공백 제거 후 \n",
      " message\n",
      "False    478850\n",
      "Name: count, dtype: int64\n",
      " n = 5인 ngram 생성.\n"
     ]
    },
    {
     "name": "stderr",
     "output_type": "stream",
     "text": [
      "100%|████████████████████████████| 430038/430038 [00:00<00:00, 838779.27 line/s]\n",
      "Read 11M words\n",
      "Number of words:  115934\n",
      "Number of labels: 0\n",
      "Progress:   1.7% words/sec/thread:   53677 lr:  0.049161 avg.loss:  0.863549 ETA:   0h14m54s"
     ]
    }
   ],
   "source": [
    "model = making_fasttext_model(df['message'], 5)"
   ]
  },
  {
   "cell_type": "code",
   "execution_count": null,
   "id": "672f2f84-f222-4ad0-b1f7-1c29159befc2",
   "metadata": {},
   "outputs": [],
   "source": [
    "model.get_nearest_neighbors('ㅍㅔ-ㅇㅣ')"
   ]
  },
  {
   "cell_type": "code",
   "execution_count": 45,
   "id": "a3664a10-d800-4c29-b313-c4e685a984ae",
   "metadata": {},
   "outputs": [],
   "source": [
    "model.save_model('fasttext_model.bin')"
   ]
  },
  {
   "cell_type": "code",
   "execution_count": null,
   "id": "fe4bc759-3b0a-48a6-abbd-59196af9b159",
   "metadata": {},
   "outputs": [],
   "source": []
  }
 ],
 "metadata": {
  "kernelspec": {
   "display_name": "Python 3 (ipykernel)",
   "language": "python",
   "name": "python3"
  },
  "language_info": {
   "codemirror_mode": {
    "name": "ipython",
    "version": 3
   },
   "file_extension": ".py",
   "mimetype": "text/x-python",
   "name": "python",
   "nbconvert_exporter": "python",
   "pygments_lexer": "ipython3",
   "version": "3.11.9"
  }
 },
 "nbformat": 4,
 "nbformat_minor": 5
}
