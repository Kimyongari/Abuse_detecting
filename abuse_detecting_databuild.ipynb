{
 "cells": [
  {
   "cell_type": "code",
   "execution_count": 1,
   "id": "f10ee97c-ab0a-4a1c-bdf7-6244b4273954",
   "metadata": {},
   "outputs": [
    {
     "name": "stdout",
     "output_type": "stream",
     "text": [
      "importing Jupyter notebook from abuse_detecting_preprocessing.ipynb\n",
      "['ㅇㅡㄴㄹㅡㄹㅈㅏㄹㅇㅣ-ㄱㅣㄴㄷㅏ-ㅎㅏ-', 'ㄴㅡㄴㄹㅗㄹㅇㅢ-ㅅㅣㄴㅇㅣ-ㄷㅏ-'] \n",
      "\n",
      "['t1ㅇㅡㄴlckㄹㅡㄹㅈㅏㄹㅇㅣ-ㄱㅣㄴㄷㅏ-ㅎㅏ-', 'fakerㄴㅡㄴㄹㅗㄹㅇㅢ-ㅅㅣㄴㅇㅣ-ㄷㅏ-'] \n",
      "\n"
     ]
    },
    {
     "name": "stderr",
     "output_type": "stream",
     "text": [
      "/opt/homebrew/anaconda3/envs/yongari/lib/python3.11/site-packages/tqdm/auto.py:21: TqdmWarning: IProgress not found. Please update jupyter and ipywidgets. See https://ipywidgets.readthedocs.io/en/stable/user_install.html\n",
      "  from .autonotebook import tqdm as notebook_tqdm\n"
     ]
    }
   ],
   "source": [
    "import pandas as pd\n",
    "import numpy as np\n",
    "import import_ipynb\n",
    "import abuse_detecting_preprocessing as pp\n",
    "import fasttext"
   ]
  },
  {
   "cell_type": "code",
   "execution_count": 2,
   "id": "8a6947b4-8813-4adb-8ceb-ef46789882e0",
   "metadata": {},
   "outputs": [
    {
     "name": "stderr",
     "output_type": "stream",
     "text": [
      "Warning : `load_model` does not return WordVectorModel or SupervisedModel any more, but a `FastText` object which is very similar.\n"
     ]
    }
   ],
   "source": [
    "fasttext_model =  fasttext.load_model('fasttext_model.bin')"
   ]
  },
  {
   "cell_type": "code",
   "execution_count": 3,
   "id": "091ba6fb-7f03-4d9a-b58f-7b9303d43514",
   "metadata": {},
   "outputs": [],
   "source": [
    "def embedding(x, sentence_number, fasttext_model):\n",
    "    train_vec = []\n",
    "    for sen in x:\n",
    "        word_list_vec = []\n",
    "        for idx in range(sentence_number):\n",
    "            if idx < len(sen):         # 단어 길이보다 idx가 작다면 fasttext[sen[idx]]를 추가, 아니라면 제로패딩\n",
    "                word_list_vec.append(fasttext_model[sen[idx]])\n",
    "            else:                     # fasttext[word] 한 번에 100개짜리 벡터가 생성됨\n",
    "                word_list_vec.append(np.array([0]*100)) #0으로 벡터 개수 맞춤\n",
    "        word_list_vec = np.array(word_list_vec)\n",
    "        train_vec.append(word_list_vec)\n",
    "    train_vec = np.array(train_vec) \n",
    "    return train_vec"
   ]
  },
  {
   "cell_type": "code",
   "execution_count": 4,
   "id": "595a7103-df12-401b-bb61-6da3a41297e6",
   "metadata": {},
   "outputs": [],
   "source": [
    "def n_grams(x,n):\n",
    "    l = len(x)\n",
    "    bow = []\n",
    "    if l < n:\n",
    "        return x\n",
    "    else:\n",
    "        for i in range(l - n + 1):\n",
    "            bow.append(x[i:i+n])\n",
    "    return bow"
   ]
  },
  {
   "cell_type": "code",
   "execution_count": 5,
   "id": "aefdfb13-d990-485e-89d9-e3fc24c9e6b8",
   "metadata": {},
   "outputs": [],
   "source": [
    "def making_x_train(words, embedding_length,fasttext_model, n):    \n",
    "    x_train = []\n",
    "    words = pp.text_preprocessing_can_eng_num(words)\n",
    "    for i in range(len(words)):\n",
    "        a = words[i]\n",
    "        n_t = n_grams(a,n)\n",
    "        x_train.append(n_t)\n",
    "    x_train = embedding(x_train, embedding_length, fasttext_model)\n",
    "    return x_train\n"
   ]
  },
  {
   "cell_type": "code",
   "execution_count": 6,
   "id": "3df54261-19ce-4c6d-8d93-13cf2e0686d2",
   "metadata": {},
   "outputs": [
    {
     "data": {
      "text/plain": [
       "array([[[ 0.82102191,  0.0405082 , -0.25131851, ..., -0.38289425,\n",
       "          0.85199386, -0.41707554],\n",
       "        [ 0.68009591,  0.28664219, -0.33030477, ..., -0.41321704,\n",
       "          0.35691521,  0.38733888],\n",
       "        [ 1.01098084, -0.13525578, -0.30350044, ...,  0.03468382,\n",
       "          0.82053047, -0.14837177],\n",
       "        ...,\n",
       "        [ 0.        ,  0.        ,  0.        , ...,  0.        ,\n",
       "          0.        ,  0.        ],\n",
       "        [ 0.        ,  0.        ,  0.        , ...,  0.        ,\n",
       "          0.        ,  0.        ],\n",
       "        [ 0.        ,  0.        ,  0.        , ...,  0.        ,\n",
       "          0.        ,  0.        ]]])"
      ]
     },
     "execution_count": 6,
     "metadata": {},
     "output_type": "execute_result"
    }
   ],
   "source": [
    "making_x_train(['페이커는 롤을 짱 잘한다'], 40, fasttext_model, 5)"
   ]
  },
  {
   "cell_type": "code",
   "execution_count": null,
   "id": "8e5a4c4c-9f3b-44a5-9526-c7bc3efc21e8",
   "metadata": {},
   "outputs": [],
   "source": []
  }
 ],
 "metadata": {
  "kernelspec": {
   "display_name": "Python 3 (ipykernel)",
   "language": "python",
   "name": "python3"
  },
  "language_info": {
   "codemirror_mode": {
    "name": "ipython",
    "version": 3
   },
   "file_extension": ".py",
   "mimetype": "text/x-python",
   "name": "python",
   "nbconvert_exporter": "python",
   "pygments_lexer": "ipython3",
   "version": "3.11.9"
  }
 },
 "nbformat": 4,
 "nbformat_minor": 5
}
