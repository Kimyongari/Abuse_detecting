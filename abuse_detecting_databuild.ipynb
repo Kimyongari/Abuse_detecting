{
 "cells": [
  {
   "cell_type": "code",
   "execution_count": 8,
   "id": "f10ee97c-ab0a-4a1c-bdf7-6244b4273954",
   "metadata": {},
   "outputs": [],
   "source": [
    "import pandas as pd\n",
    "import numpy as np\n",
    "import import_ipynb\n",
    "import abuse_detecting_preprocessing as pp\n",
    "import fasttext"
   ]
  },
  {
   "cell_type": "code",
   "execution_count": 9,
   "id": "8a6947b4-8813-4adb-8ceb-ef46789882e0",
   "metadata": {},
   "outputs": [
    {
     "name": "stderr",
     "output_type": "stream",
     "text": [
      "Warning : `load_model` does not return WordVectorModel or SupervisedModel any more, but a `FastText` object which is very similar.\n"
     ]
    }
   ],
   "source": [
    "fasttext_model =  fasttext.load_model('/Users/kim-yongjun/Documents/abuse_detecting/fasttext_model.bin')"
   ]
  },
  {
   "cell_type": "code",
   "execution_count": 10,
   "id": "091ba6fb-7f03-4d9a-b58f-7b9303d43514",
   "metadata": {},
   "outputs": [],
   "source": [
    "def embedding(x, sentence_number, fasttext_model):\n",
    "    train_vec = []\n",
    "    for sen in x:\n",
    "        word_list_vec = []\n",
    "        for idx in range(sentence_number):\n",
    "            if idx < len(sen):         # 단어 길이보다 idx가 작다면 fasttext[sen[idx]]를 추가, 아니라면 제로패딩\n",
    "                word_list_vec.append(fasttext_model[sen[idx]])\n",
    "            else:                     # fasttext[word] 한 번에 100개짜리 벡터가 생성됨\n",
    "                word_list_vec.append(np.array([0]*100)) #0으로 벡터 개수 맞춤\n",
    "        word_list_vec = np.array(word_list_vec)\n",
    "        train_vec.append(word_list_vec)\n",
    "    train_vec = np.array(train_vec) \n",
    "    return train_vec"
   ]
  },
  {
   "cell_type": "code",
   "execution_count": 11,
   "id": "595a7103-df12-401b-bb61-6da3a41297e6",
   "metadata": {},
   "outputs": [],
   "source": [
    "def n_grams(x,n):\n",
    "    l = len(x)\n",
    "    bow = []\n",
    "    if l < n:\n",
    "        return x\n",
    "    else:\n",
    "        for i in range(l - n + 1):\n",
    "            bow.append(x[i:i+n])\n",
    "    return bow"
   ]
  },
  {
   "cell_type": "code",
   "execution_count": 12,
   "id": "aefdfb13-d990-485e-89d9-e3fc24c9e6b8",
   "metadata": {},
   "outputs": [],
   "source": [
    "def making_x_train(words, embedding_length,fasttext_model, n):    \n",
    "    x_train = []\n",
    "    words = pp.text_preprocessing_can_eng_num(words)\n",
    "    for i in range(len(words)):\n",
    "        a = words[i]\n",
    "        n_t = n_grams(a,n)\n",
    "        x_train.append(n_t)\n",
    "    x_train = embedding(x_train, embedding_length, fasttext_model)\n",
    "    return x_train\n"
   ]
  },
  {
   "cell_type": "code",
   "execution_count": 13,
   "id": "3df54261-19ce-4c6d-8d93-13cf2e0686d2",
   "metadata": {},
   "outputs": [
    {
     "data": {
      "text/plain": [
       "array([[[ 0.69483542, -0.20923315, -0.49888569, ..., -0.25695699,\n",
       "          0.13415313,  0.28478369],\n",
       "        [ 0.57365143,  0.18181171, -0.35338047, ..., -0.24947196,\n",
       "         -0.04032575,  0.3327212 ],\n",
       "        [ 0.70437789, -0.5309971 , -0.72374296, ...,  0.1778979 ,\n",
       "          0.45606384,  0.26265007],\n",
       "        ...,\n",
       "        [ 0.        ,  0.        ,  0.        , ...,  0.        ,\n",
       "          0.        ,  0.        ],\n",
       "        [ 0.        ,  0.        ,  0.        , ...,  0.        ,\n",
       "          0.        ,  0.        ],\n",
       "        [ 0.        ,  0.        ,  0.        , ...,  0.        ,\n",
       "          0.        ,  0.        ]]])"
      ]
     },
     "execution_count": 13,
     "metadata": {},
     "output_type": "execute_result"
    }
   ],
   "source": [
    "making_x_train(['페이커는 롤을 짱 잘한다'], 40, fasttext_model, 5)"
   ]
  },
  {
   "cell_type": "code",
   "execution_count": null,
   "id": "8e5a4c4c-9f3b-44a5-9526-c7bc3efc21e8",
   "metadata": {},
   "outputs": [],
   "source": []
  }
 ],
 "metadata": {
  "kernelspec": {
   "display_name": "Python 3 (ipykernel)",
   "language": "python",
   "name": "python3"
  },
  "language_info": {
   "codemirror_mode": {
    "name": "ipython",
    "version": 3
   },
   "file_extension": ".py",
   "mimetype": "text/x-python",
   "name": "python",
   "nbconvert_exporter": "python",
   "pygments_lexer": "ipython3",
   "version": "3.11.9"
  }
 },
 "nbformat": 4,
 "nbformat_minor": 5
}
