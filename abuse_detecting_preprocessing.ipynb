{
 "cells": [
  {
   "cell_type": "code",
   "execution_count": 2,
   "id": "eea56418-149b-4e30-8be3-d5f7d882c6ed",
   "metadata": {},
   "outputs": [
    {
     "name": "stderr",
     "output_type": "stream",
     "text": [
      "/opt/homebrew/anaconda3/envs/yongari/lib/python3.11/site-packages/tqdm/auto.py:21: TqdmWarning: IProgress not found. Please update jupyter and ipywidgets. See https://ipywidgets.readthedocs.io/en/stable/user_install.html\n",
      "  from .autonotebook import tqdm as notebook_tqdm\n"
     ]
    }
   ],
   "source": [
    "import pandas as pd\n",
    "import torch\n",
    "from datasets import load_dataset\n",
    "import csv"
   ]
  },
  {
   "cell_type": "code",
   "execution_count": 3,
   "id": "2ed95d85-78fd-4dcf-a5a3-5fb49dc61212",
   "metadata": {},
   "outputs": [],
   "source": [
    "import re\n",
    "import itertools\n",
    "\n",
    "BASE_CODE, CHOSUNG, JUNGSUNG = 44032, 588, 28\n",
    "CHOSUNG_l = ['ㄱ','ㄲ','ㄴ','ㄷ','ㄸ','ㄹ','ㅁ','ㅂ','ㅃ','ㅅ','ㅆ','ㅇ','ㅈ','ㅉ','ㅊ','ㅋ','ㅌ','ㅍ','ㅎ']\n",
    "JUNGSUNG_l = ['ㅏ','ㅐ','ㅑ','ㅒ','ㅓ','ㅔ','ㅕ','ㅖ','ㅗ','ㅘ','ㅙ','ㅚ','ㅛ','ㅜ','ㅝ','ㅞ','ㅟ','ㅠ','ㅡ','ㅢ','ㅣ']\n",
    "JONGSUNG_l =['-','ㄱ','ㄲ','ㄳ','ㄴ','ㄵ','ㄶ','ㄷ','ㄹ','ㄺ','ㄻ','ㄼ','ㄽ','ㄾ','ㄿ','ㅀ','ㅁ','ㅂ',\n",
    "             'ㅄ','ㅅ','ㅆ','ㅇ','ㅈ','ㅊ','ㅋ','ㅌ','ㅍ','ㅎ']\n",
    "GYUP2CHO = {'ㄳ': 'ㄱㅅ','ㄵ': 'ㄴㅈ','ㄶ': 'ㄴㅎ','ㄺ': 'ㄹㄱ','ㄻ': 'ㄹㅁ','ㄽ': 'ㄹㅅ','ㄾ': 'ㄹㅌ','ㄿ': 'ㄹㅍ','ㅄ': 'ㅂㅅ'}"
   ]
  },
  {
   "cell_type": "code",
   "execution_count": 4,
   "id": "5df6ea73-c5d5-49c0-a12c-cb764829e4e8",
   "metadata": {},
   "outputs": [],
   "source": [
    "def remain_kor(x):\n",
    "    return [''.join(re.findall(r'[ㄱ-ㅎㅏ-ㅣ각-힣]', i)) for i in x]\n",
    "\n",
    "# 한국어만 남기기\n"
   ]
  },
  {
   "cell_type": "code",
   "execution_count": 5,
   "id": "8ca4c139-c550-4588-87ac-fa6be9121cfa",
   "metadata": {},
   "outputs": [],
   "source": [
    "def remain_kor_eng_num(x):\n",
    "    return [''.join(re.findall(r'[ㄱ-ㅎㅏ-ㅣ가-힣A-Za-z0-9]', i)) for i in x]"
   ]
  },
  {
   "cell_type": "code",
   "execution_count": 6,
   "id": "4150b737-84f8-4768-9ef4-243fead61331",
   "metadata": {},
   "outputs": [],
   "source": [
    "def long2short(x):\n",
    "    result = []\n",
    "    keep = True\n",
    "    for ele in x:\n",
    "        while True:\n",
    "            candidates = set(re.findall(r'(\\w)\\1', ele))\n",
    "            repeats = itertools.chain(*[re.findall(r\"({0}{0}+)\".format(c), ele) for c in candidates])\n",
    "            keep = False\n",
    "            \n",
    "            for org in [i for i in repeats if len(i) >=2]:\n",
    "                ele = ele.replace(org,org[0])\n",
    "                \n",
    "                keep = True\n",
    "            if not keep:\n",
    "                break\n",
    "        result.append(ele)\n",
    "    return result\n",
    "\n"
   ]
  },
  {
   "cell_type": "code",
   "execution_count": 7,
   "id": "dd40bcf4-e1a0-4e5c-823c-38dee8e05d90",
   "metadata": {},
   "outputs": [],
   "source": [
    "def text2chosung(x):\n",
    "    split_keyword_list = list(x)\n",
    "    result = []\n",
    "\n",
    "    for keyword in split_keyword_list:\n",
    "        if re.match(r'.*[가-힣]+.*', keyword) is not None:\n",
    "            char_code = ord(keyword) - BASE_CODE\n",
    "\n",
    "            char1 = int(char_code / CHOSUNG)\n",
    "            result.append(CHOSUNG_l[char1])\n",
    "\n",
    "            char2 = int((char_code - (CHOSUNG * char1)) / JUNGSUNG)\n",
    "            result.append(JUNGSUNG_l[char2])\n",
    "\n",
    "            char3 = int((char_code - (CHOSUNG * char1) - (JUNGSUNG * char2)))\n",
    "            result.append(JONGSUNG_l[char3])\n",
    "\n",
    "\n",
    "        elif re.match('r[ㄱ-ㅎ]', keyword) is not None:\n",
    "            result.append(keyword + '-')\n",
    "        elif re.match(r'[ㅏ-ㅣ]', keyword) is not None:\n",
    "            result.append('-' + keyword + '-')\n",
    "        else:\n",
    "            result.append(keyword)\n",
    "\n",
    "    return ''.join(result)\n",
    "\n",
    "def text2chosung_tolist(x):\n",
    "    return [text2chosung(i) for i in x]\n",
    "\n",
    "# 초성으로 바꾸기\n"
   ]
  },
  {
   "cell_type": "code",
   "execution_count": 8,
   "id": "4718951e-eaa4-4454-9d94-7dff748d1e86",
   "metadata": {},
   "outputs": [],
   "source": [
    "def replace_gyup(x):\n",
    "    result = []\n",
    "    for ele in x:\n",
    "        for gyup, cho in GYUP2CHO.items():\n",
    "            ele = ele.replace(gyup, cho)\n",
    "        result.append(ele)\n",
    "    return result\n",
    "\n",
    "# 겹모음 바꾸기"
   ]
  },
  {
   "cell_type": "code",
   "execution_count": 9,
   "id": "7fb33322-539c-4173-b957-98b1756e2061",
   "metadata": {},
   "outputs": [],
   "source": [
    "def text_preprocessing(x):\n",
    "    texts = remain_kor(x)\n",
    "    texts = long2short(texts)\n",
    "    texts = text2chosung_tolist(texts)\n",
    "    replace_gyup(texts)\n",
    "\n",
    "    return (texts)\n"
   ]
  },
  {
   "cell_type": "code",
   "execution_count": 10,
   "id": "4c50c432-8e5d-4e47-9174-a7e5092cad7f",
   "metadata": {},
   "outputs": [],
   "source": [
    "def text_preprocessing_can_eng_num(x):\n",
    "    texts = remain_kor_eng_num(x)\n",
    "    texts = long2short(texts)\n",
    "    texts = text2chosung_tolist(texts)\n",
    "    replace_gyup(texts)\n",
    "\n",
    "    return (texts)"
   ]
  },
  {
   "cell_type": "code",
   "execution_count": 11,
   "id": "bc1b0995-d838-4485-9671-650f94b8bba3",
   "metadata": {},
   "outputs": [
    {
     "name": "stdout",
     "output_type": "stream",
     "text": [
      "['ㅇㅡㄴㄹㅡㄹㅈㅏㄹㅇㅣ-ㄱㅣㄴㄷㅏ-ㅎㅏ-', 'ㄴㅡㄴㄹㅗㄹㅇㅢ-ㅅㅣㄴㅇㅣ-ㄷㅏ-'] \n",
      "\n",
      "['t1ㅇㅡㄴlckㄹㅡㄹㅈㅏㄹㅇㅣ-ㄱㅣㄴㄷㅏ-ㅎㅏ-', 'fakerㄴㅡㄴㄹㅗㄹㅇㅢ-ㅅㅣㄴㅇㅣ-ㄷㅏ-'] \n",
      "\n"
     ]
    }
   ],
   "source": [
    "text = ['t1은 lck를 잘 이긴다 하하하하하.', 'faker는 롤의 신이다.']\n",
    "print(text_preprocessing(text),'\\n')\n",
    "print(text_preprocessing_can_eng_num(text),'\\n')\n",
    "\n",
    "# 메세지에서 한국어와 영어만 남긴다.\n",
    "# 텍스트에서 겹친 글자를 줄인다. (ㅋㅋㅋㅋㅋ > ㅋ)\n",
    "# 텍스트를 초성으로 바꾼다.\n",
    "# 바꾼 텍스트에서 겹모음을 바꾼다."
   ]
  },
  {
   "cell_type": "code",
   "execution_count": null,
   "id": "43d60b47-86aa-49ce-939b-212cb9d93064",
   "metadata": {},
   "outputs": [],
   "source": []
  }
 ],
 "metadata": {
  "kernelspec": {
   "display_name": "Python 3 (ipykernel)",
   "language": "python",
   "name": "python3"
  },
  "language_info": {
   "codemirror_mode": {
    "name": "ipython",
    "version": 3
   },
   "file_extension": ".py",
   "mimetype": "text/x-python",
   "name": "python",
   "nbconvert_exporter": "python",
   "pygments_lexer": "ipython3",
   "version": "3.11.9"
  }
 },
 "nbformat": 4,
 "nbformat_minor": 5
}
